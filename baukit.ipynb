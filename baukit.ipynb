{
 "cells": [
  {
   "cell_type": "markdown",
   "id": "c8812879",
   "metadata": {},
   "source": [
    "# Activation steering with baukit and gpt2-xl\n",
    "\n",
    "This notebook shows how to extract and manipulate internal model activations using the [baukit library](https://github.com/davidbau/baukit)."
   ]
  },
  {
   "cell_type": "code",
   "execution_count": 2,
   "id": "7d78bb45",
   "metadata": {},
   "outputs": [],
   "source": [
    "from transformers import AutoTokenizer, AutoModelForCausalLM\n",
    "from baukit import Trace\n",
    "import torch"
   ]
  },
  {
   "cell_type": "code",
   "execution_count": 3,
   "id": "3965aad4",
   "metadata": {},
   "outputs": [
    {
     "name": "stdout",
     "output_type": "stream",
     "text": [
      "device: cuda\n"
     ]
    }
   ],
   "source": [
    "device = 'cuda' if torch.cuda.is_available() else 'cpu'\n",
    "print(f\"device: {device}\")"
   ]
  },
  {
   "cell_type": "code",
   "execution_count": 10,
   "id": "501a6098",
   "metadata": {},
   "outputs": [],
   "source": [
    "# load model\n",
    "model = AutoModelForCausalLM.from_pretrained(\"gpt2-xl\").to(device).eval()\n",
    "# load tokenizer\n",
    "tokenizer = AutoTokenizer.from_pretrained(\"gpt2-xl\")"
   ]
  },
  {
   "cell_type": "markdown",
   "id": "c6fc2df9",
   "metadata": {},
   "source": [
    "We can figure out the name of the module where we want to do our activation addition by calling `model`.\n",
    "\n",
    "A layer module can be passed directly to the `Trace` constructor. Lets focus on the residual stream output of layer 5.\n",
    "\n",
    "The baukit class Trace is a context manager, that takes care of the correct removal of the hooks when you leave the context. If you use it without specifying an `edit_output` fnction it just caches the internal activations of the specified module. See also the baukit code [here](https://github.com/davidbau/baukit/blob/main/baukit/nethook.py)."
   ]
  },
  {
   "cell_type": "code",
   "execution_count": 5,
   "id": "f26ee6da",
   "metadata": {},
   "outputs": [
    {
     "name": "stdout",
     "output_type": "stream",
     "text": [
      "act_love.shape: torch.Size([1, 1, 1600])\n",
      "act_hate.shape: torch.Size([1, 2, 1600])\n"
     ]
    }
   ],
   "source": [
    "# define layer to do the activation steering on\n",
    "layer_id = 5\n",
    "module = model.transformer.h[layer_id]\n",
    "\n",
    "# get internal activations\n",
    "inputs = tokenizer(\"Love\", return_tensors=\"pt\").to(device)\n",
    "with Trace(module) as cache:\n",
    "    _ = model(**inputs)\n",
    "    act_love = cache.output[0]\n",
    "\n",
    "inputs = tokenizer(\"Hate\", return_tensors=\"pt\").to(device)\n",
    "with Trace(module) as cache:\n",
    "    _ = model(**inputs)\n",
    "    act_hate = cache.output[0]\n",
    "\n",
    "print(f\"act_love.shape: {act_love.shape}\")\n",
    "print(f\"act_hate.shape: {act_hate.shape}\")"
   ]
  },
  {
   "cell_type": "code",
   "execution_count": 6,
   "id": "24ab9a0a",
   "metadata": {},
   "outputs": [
    {
     "name": "stdout",
     "output_type": "stream",
     "text": [
      "steering_vec.shape:  torch.Size([1, 1, 1600])\n",
      "length steering_vec: 100.23\n"
     ]
    }
   ],
   "source": [
    "# define the steering vector\n",
    "steering_vec = act_love[:,-1:,:]-act_hate[:,-1:,:]\n",
    "print(f\"steering_vec.shape:  {steering_vec.shape}\")\n",
    "print(f\"length steering_vec: {steering_vec.norm():.2f}\")\n",
    "\n",
    "# reset the steering vector length to 1\n",
    "steering_vec /= steering_vec.norm()"
   ]
  },
  {
   "cell_type": "code",
   "execution_count": 7,
   "id": "6de22e76",
   "metadata": {},
   "outputs": [],
   "source": [
    "# define the activation steering funtion\n",
    "def act_add(steering_vec):\n",
    "    def hook(output):\n",
    "        return (output[0] + steering_vec,) + output[1:] # the output of the residual stream is actually a tuple, where the first entry is the activation\n",
    "    return hook"
   ]
  },
  {
   "cell_type": "code",
   "execution_count": 8,
   "id": "c4bf33be",
   "metadata": {},
   "outputs": [
    {
     "name": "stdout",
     "output_type": "stream",
     "text": [
      "I think dogs are  a great way to get to know someone.\n",
      "--------------------\n",
      "I think dogs are icky, but I don't think they're \n"
     ]
    }
   ],
   "source": [
    "test_sentence = \"I think dogs are \"\n",
    "\n",
    "# generate text while steering in positive direction\n",
    "coeff = 10\n",
    "inputs = tokenizer(test_sentence, return_tensors=\"pt\").to(device)\n",
    "with Trace(module, edit_output=act_add(coeff*steering_vec)) as _:\n",
    "    generated_ids = model.generate(**inputs, max_new_tokens=10, pad_token_id=tokenizer.eos_token_id, do_sample=False)\n",
    "    generated_text = tokenizer.batch_decode(generated_ids)\n",
    "print(generated_text[0])\n",
    "print(\"-\"*20)\n",
    "\n",
    "# generate text while steering in negative direction\n",
    "coeff = -10\n",
    "inputs = tokenizer(test_sentence, return_tensors=\"pt\").to(device)\n",
    "with Trace(module, edit_output=act_add(coeff*steering_vec)) as _:\n",
    "    generated_ids = model.generate(**inputs, max_new_tokens=10, pad_token_id=tokenizer.eos_token_id, do_sample=False)\n",
    "    generated_text = tokenizer.batch_decode(generated_ids)\n",
    "    \n",
    "print(generated_text[0])"
   ]
  },
  {
   "cell_type": "code",
   "execution_count": 11,
   "id": "1324fb33",
   "metadata": {},
   "outputs": [
    {
     "name": "stdout",
     "output_type": "stream",
     "text": [
      "I think dogs are  a great way to get your dog to learn\n"
     ]
    }
   ],
   "source": [
    "# generate text without steering\n",
    "inputs = tokenizer(test_sentence, return_tensors=\"pt\").to(device)\n",
    "generated_ids = model.generate(**inputs, max_new_tokens=10, pad_token_id=tokenizer.eos_token_id, do_sample=False)\n",
    "generated_text = tokenizer.batch_decode(generated_ids)\n",
    "print(generated_text[0])"
   ]
  }
 ],
 "metadata": {
  "kernelspec": {
   "display_name": "Python 3 (ipykernel)",
   "language": "python",
   "name": "python3"
  },
  "language_info": {
   "codemirror_mode": {
    "name": "ipython",
    "version": 3
   },
   "file_extension": ".py",
   "mimetype": "text/x-python",
   "name": "python",
   "nbconvert_exporter": "python",
   "pygments_lexer": "ipython3",
   "version": "3.10.12"
  }
 },
 "nbformat": 4,
 "nbformat_minor": 5
}
