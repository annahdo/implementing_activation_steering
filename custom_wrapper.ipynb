{
 "cells": [
  {
   "cell_type": "markdown",
   "id": "c8812879",
   "metadata": {},
   "source": [
    "# Activation steering with custom wrapper and gpt2-xl\n",
    "\n",
    "This notebook shows how to extract and manipulate internal model activations using a self written wrapper module."
   ]
  },
  {
   "cell_type": "code",
   "execution_count": 1,
   "id": "7d78bb45",
   "metadata": {},
   "outputs": [],
   "source": [
    "from transformers import AutoTokenizer, AutoModelForCausalLM\n",
    "import os\n",
    "import torch"
   ]
  },
  {
   "cell_type": "code",
   "execution_count": null,
   "id": "3965aad4",
   "metadata": {},
   "outputs": [
    {
     "name": "stdout",
     "output_type": "stream",
     "text": [
      "device: cuda\n"
     ]
    }
   ],
   "source": [
    "device = 'cuda' if torch.cuda.is_available() else 'cpu'\n",
    "print(f\"device: {device}\")"
   ]
  },
  {
   "cell_type": "code",
   "execution_count": null,
   "id": "c03e8112",
   "metadata": {},
   "outputs": [],
   "source": [
    "# load model\n",
    "model = AutoModelForCausalLM.from_pretrained(\"gpt2-xl\").to(device).eval()\n",
    "# load tokenizer\n",
    "tokenizer = AutoTokenizer.from_pretrained(\"gpt2-xl\")"
   ]
  },
  {
   "cell_type": "code",
   "execution_count": null,
   "id": "47eafca5",
   "metadata": {},
   "outputs": [],
   "source": [
    "# define wrapper class\n",
    "class WrappedModule(torch.nn.Module):\n",
    "   def __init__(self, module):\n",
    "        super().__init__()\n",
    "        self.module = module\n",
    "        self.output = None\n",
    "        self.steering_vec = None\n",
    "   def forward(self, *args, **kwargs):\n",
    "        self.output = self.module(*args, **kwargs)\n",
    "        if self.steering_vec is not None:\n",
    "            # the output of the residual layer is actually a tuple, the activation is the first part of that tuple\n",
    "            return (self.output[0] + self.steering_vec,) + self.output[1:] \n",
    "        else:\n",
    "            return self.output"
   ]
  },
  {
   "cell_type": "code",
   "execution_count": null,
   "id": "ae31eb7c",
   "metadata": {},
   "outputs": [],
   "source": [
    "# wrap a module of your loaded pretrained transformer model    \t\n",
    "layer_id = 5 \n",
    "model.transformer.h[layer_id] = WrappedModule(model.transformer.h[layer_id])"
   ]
  },
  {
   "cell_type": "code",
   "execution_count": null,
   "id": "3bc2b40c",
   "metadata": {},
   "outputs": [
    {
     "name": "stdout",
     "output_type": "stream",
     "text": [
      "act_love.shape: torch.Size([1, 1, 1600])\n",
      "act_hate.shape: torch.Size([1, 2, 1600])\n"
     ]
    }
   ],
   "source": [
    "# get internal activations\n",
    "inputs = tokenizer(\"Love\", return_tensors=\"pt\").to(device)\n",
    "_ = model(**inputs)\n",
    "act_love = model.transformer.h[layer_id].output[0]\n",
    "\n",
    "inputs = tokenizer(\"Hate\", return_tensors=\"pt\").to(device)\n",
    "_ = model(**inputs)\n",
    "act_hate = model.transformer.h[layer_id].output[0]\n",
    "\n",
    "print(f\"act_love.shape: {act_love.shape}\")\n",
    "print(f\"act_hate.shape: {act_hate.shape}\")"
   ]
  },
  {
   "cell_type": "code",
   "execution_count": null,
   "id": "c77b4610",
   "metadata": {},
   "outputs": [
    {
     "name": "stdout",
     "output_type": "stream",
     "text": [
      "steering_vec.shape:  torch.Size([1, 1, 1600])\n",
      "length steering_vec: 100.23\n"
     ]
    }
   ],
   "source": [
    "# define the steering vector\n",
    "steering_vec = act_love[:,-1:,:]-act_hate[:,-1:,:]\n",
    "print(f\"steering_vec.shape:  {steering_vec.shape}\")\n",
    "print(f\"length steering_vec: {steering_vec.norm():.2f}\")\n",
    "\n",
    "# reset the steering vector length to 1\n",
    "steering_vec /= steering_vec.norm()"
   ]
  },
  {
   "cell_type": "code",
   "execution_count": null,
   "id": "79a87415",
   "metadata": {},
   "outputs": [
    {
     "name": "stdout",
     "output_type": "stream",
     "text": [
      "I think dogs are  a great way to get to know someone.\n",
      "--------------------\n",
      "I think dogs are icky, but I don't think they're \n"
     ]
    }
   ],
   "source": [
    "test_sentence = \"I think dogs are \"\n",
    "\n",
    "# generate text while steering in positive direction\n",
    "coeff = 10\n",
    "model.transformer.h[layer_id].steering_vec = coeff*steering_vec\n",
    "inputs = tokenizer(test_sentence, return_tensors=\"pt\").to(device)\n",
    "generated_ids = model.generate(**inputs, max_new_tokens=10, pad_token_id=tokenizer.eos_token_id, do_sample=False)\n",
    "generated_text = tokenizer.batch_decode(generated_ids)\n",
    "print(generated_text[0])\n",
    "print(\"-\"*20)\n",
    "\n",
    "# generate text while steering in negative direction\n",
    "coeff = -10\n",
    "model.transformer.h[layer_id].steering_vec = coeff*steering_vec\n",
    "inputs = tokenizer(test_sentence, return_tensors=\"pt\").to(device)\n",
    "generated_ids = model.generate(**inputs, max_new_tokens=10, pad_token_id=tokenizer.eos_token_id, do_sample=False)\n",
    "generated_text = tokenizer.batch_decode(generated_ids)\n",
    "print(generated_text[0])"
   ]
  },
  {
   "cell_type": "code",
   "execution_count": null,
   "id": "93aff8f0",
   "metadata": {},
   "outputs": [
    {
     "name": "stdout",
     "output_type": "stream",
     "text": [
      "I think dogs are  a great way to get your dog to learn\n"
     ]
    }
   ],
   "source": [
    "# be sure to remove the wrapping again afterwards. \n",
    "model.transformer.h[layer_id] = model.transformer.h[layer_id].module\n",
    "inputs = tokenizer(test_sentence, return_tensors=\"pt\").to(device)\n",
    "generated_ids = model.generate(**inputs, max_new_tokens=10, pad_token_id=tokenizer.eos_token_id, do_sample=False)\n",
    "generated_text = tokenizer.batch_decode(generated_ids)\n",
    "print(generated_text[0])"
   ]
  }
 ],
 "metadata": {
  "kernelspec": {
   "display_name": "Python 3 (ipykernel)",
   "language": "python",
   "name": "python3"
  },
  "language_info": {
   "codemirror_mode": {
    "name": "ipython",
    "version": 3
   },
   "file_extension": ".py",
   "mimetype": "text/x-python",
   "name": "python",
   "nbconvert_exporter": "python",
   "pygments_lexer": "ipython3",
   "version": "3.10.12"
  }
 },
 "nbformat": 4,
 "nbformat_minor": 5
}
